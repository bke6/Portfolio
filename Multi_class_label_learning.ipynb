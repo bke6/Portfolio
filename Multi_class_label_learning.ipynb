{
 "cells": [
  {
   "cell_type": "markdown",
   "metadata": {
    "collapsed": true,
    "id": "34Yk_z39yiYT"
   },
   "source": [
    "# Multi-Class and Multi-Label Classification\n",
    "*Dr. Samah Fodeh*"
   ]
  },
  {
   "cell_type": "markdown",
   "metadata": {
    "collapsed": true,
    "id": "m9tT64d60ebv"
   },
   "source": [
    "# Multi-Class Classification\n",
    "- One-vs-All\n",
    "- One-vs-One"
   ]
  },
  {
   "cell_type": "code",
   "execution_count": 1,
   "metadata": {
    "colab": {
     "base_uri": "https://localhost:8080/"
    },
    "collapsed": true,
    "id": "zYDwj8-UyiYT",
    "outputId": "c5f6ea50-9185-4a65-cbd7-990ca6596a5b"
   },
   "outputs": [
    {
     "name": "stdout",
     "output_type": "stream",
     "text": [
      "the data has 2381 rows and 300 columns \n"
     ]
    }
   ],
   "source": [
    "# Prepare the Data\n",
    "\n",
    "# import newsGroups data\n",
    "import sys\n",
    "import os\n",
    "from sklearn.datasets import fetch_20newsgroups\n",
    "news = fetch_20newsgroups(subset='train',\n",
    "                          categories=('rec.autos',\n",
    "                             'rec.sport.hockey',\n",
    "                             'sci.med',\n",
    "                             'sci.space'\n",
    "                                     ),\n",
    "                          remove=('headers', 'footers', 'quotes'))\n",
    "\n",
    "#generate term frequency matrix\n",
    "from sklearn.feature_extraction.text import CountVectorizer\n",
    "tf_vec = CountVectorizer (max_df=500,\n",
    "                      min_df=0,\n",
    "                      max_features =300,\n",
    "                      ngram_range =(1,1),\n",
    "                     stop_words='english')\n",
    "\n",
    "tf_matrix=tf_vec.fit_transform(news.data)  #sparse matrix\n",
    "print (\"the data has %d rows and %d columns \" % (tf_matrix.shape[0], tf_matrix.shape[1]))\n",
    "\n",
    "import pandas as pd             #conver to full matrix\n",
    "full_matrix = pd.DataFrame(tf_matrix.todense(),columns=tf_vec.get_feature_names_out())\n"
   ]
  },
  {
   "cell_type": "markdown",
   "metadata": {
    "id": "AtaPAgGCQV3R"
   },
   "source": [
    "##ONE-vs-ALL"
   ]
  },
  {
   "cell_type": "code",
   "execution_count": 2,
   "metadata": {
    "colab": {
     "base_uri": "https://localhost:8080/"
    },
    "id": "aO28c-GQQSMZ",
    "outputId": "56190c87-51d4-468e-e796-39a29c7d3b21"
   },
   "outputs": [
    {
     "name": "stderr",
     "output_type": "stream",
     "text": [
      "/usr/local/lib/python3.10/dist-packages/sklearn/svm/_base.py:1244: ConvergenceWarning: Liblinear failed to converge, increase the number of iterations.\n",
      "  warnings.warn(\n"
     ]
    },
    {
     "name": "stdout",
     "output_type": "stream",
     "text": [
      "One-vs-All --> number of mislabels out of 596 points in the test test: 136\n"
     ]
    }
   ],
   "source": [
    "#One-vs-All (one-vs-Rest)\n",
    "import numpy as np\n",
    "t=np.asarray(news.target)   # true labels\n",
    "from sklearn.model_selection import train_test_split\n",
    "xtrain, xtest, ytrain, ytest = train_test_split(full_matrix,t,random_state=50)\n",
    "\n",
    "from sklearn.naive_bayes import GaussianNB as NB\n",
    "from sklearn.multiclass import OneVsRestClassifier\n",
    "from sklearn.svm import LinearSVC\n",
    "\n",
    "clf= LinearSVC(random_state=10)\n",
    "#clf = NB()\n",
    "\n",
    "y_pred = OneVsRestClassifier(clf).fit(xtrain, ytrain).predict(xtest)\n",
    "error = (y_pred != ytest).sum()\n",
    "print (\"One-vs-All --> number of mislabels out of %d points in the test test: %d\" % (xtest.shape[0],error ))\n"
   ]
  },
  {
   "cell_type": "markdown",
   "metadata": {
    "id": "RPN8sHIgP_X4"
   },
   "source": [
    "## ONE-vs-ONE"
   ]
  },
  {
   "cell_type": "code",
   "execution_count": 3,
   "metadata": {
    "colab": {
     "base_uri": "https://localhost:8080/"
    },
    "id": "jvTnnNvRP-Ci",
    "outputId": "dc8c7699-7b71-400a-e175-18d576d6dc1d"
   },
   "outputs": [
    {
     "name": "stdout",
     "output_type": "stream",
     "text": [
      "One-vs-One --> number of mislabels out of 596 points in the test test: 145\n"
     ]
    }
   ],
   "source": [
    "# One-vs-One (All-vs-All)\n",
    "\n",
    "from sklearn.multiclass import OneVsOneClassifier\n",
    "clf= LinearSVC(random_state=10)\n",
    "#clf = NB()\n",
    "\n",
    "y_pred = OneVsOneClassifier(clf).fit(xtrain, ytrain).predict(xtest)\n",
    "error = (y_pred != ytest).sum()\n",
    "print (\"One-vs-One --> number of mislabels out of %d points in the test test: %d\" % (xtest.shape[0],error ))"
   ]
  },
  {
   "cell_type": "markdown",
   "metadata": {
    "id": "fNLwOG3SyiYU"
   },
   "source": [
    "# Multi-Label Classification\n",
    "\n",
    "##The three types of Problem Transformation for multi-label classification are:\n",
    "\n",
    "\n",
    "1.  **Binary Relevance**\n",
    "2.  **Classifier Chain**\n",
    "3.  **Label Powerset**\n"
   ]
  },
  {
   "cell_type": "markdown",
   "metadata": {
    "id": "XiPwoBqR7DjN"
   },
   "source": [
    "## install the multi-label classification package"
   ]
  },
  {
   "cell_type": "code",
   "execution_count": 4,
   "metadata": {
    "colab": {
     "base_uri": "https://localhost:8080/"
    },
    "id": "nyyhqGEX2H53",
    "outputId": "a6157d02-6c02-404a-c758-fec860d8e26e"
   },
   "outputs": [
    {
     "name": "stdout",
     "output_type": "stream",
     "text": [
      "Collecting scikit-multilearn\n",
      "  Downloading scikit_multilearn-0.2.0-py3-none-any.whl (89 kB)\n",
      "\u001b[?25l     \u001b[90m━━━━━━━━━━━━━━━━━━━━━━━━━━━━━━━━━━━━━━━━\u001b[0m \u001b[32m0.0/89.4 kB\u001b[0m \u001b[31m?\u001b[0m eta \u001b[36m-:--:--\u001b[0m\r",
      "\u001b[2K     \u001b[90m━━━━━━━━━━━━━━━━━━━━━━━━━━━━━━━━━━━━━━━━\u001b[0m \u001b[32m89.4/89.4 kB\u001b[0m \u001b[31m2.5 MB/s\u001b[0m eta \u001b[36m0:00:00\u001b[0m\n",
      "\u001b[?25hInstalling collected packages: scikit-multilearn\n",
      "Successfully installed scikit-multilearn-0.2.0\n"
     ]
    }
   ],
   "source": [
    "pip install scikit-multilearn"
   ]
  },
  {
   "cell_type": "markdown",
   "metadata": {
    "id": "HSaPMjDH1s9B"
   },
   "source": [
    "## Binary Relevance"
   ]
  },
  {
   "cell_type": "code",
   "execution_count": 9,
   "metadata": {
    "colab": {
     "base_uri": "https://localhost:8080/"
    },
    "id": "7Gp1p_9e4WHu",
    "outputId": "c3284cdc-2924-4ef5-9686-35ac5c8c062c"
   },
   "outputs": [
    {
     "name": "stdout",
     "output_type": "stream",
     "text": [
      "(1666, 300)\n",
      "(1666,)\n",
      "(715, 300)\n",
      "(715,)\n"
     ]
    }
   ],
   "source": [
    "full_matrix = pd.DataFrame(tf_matrix.todense(),columns=tf_vec.get_feature_names_out())\n",
    "\n",
    "from sklearn.model_selection import train_test_split\n",
    "\n",
    "x_train, x_test, y_train, y_test = train_test_split(full_matrix,t,train_size = .7,random_state=50)\n",
    "\n",
    "print (x_train.shape)\n",
    "print(y_train.shape)\n",
    "print (x_test.shape)\n",
    "print(y_test.shape)\n"
   ]
  },
  {
   "cell_type": "code",
   "execution_count": 12,
   "metadata": {
    "colab": {
     "base_uri": "https://localhost:8080/"
    },
    "id": "2YF-Wanr1i4y",
    "outputId": "3b1084a0-14d0-4e98-be18-2f7b73174a15"
   },
   "outputs": [
    {
     "name": "stdout",
     "output_type": "stream",
     "text": [
      "accuracy of binary relevance is 0.67 \n"
     ]
    },
    {
     "name": "stderr",
     "output_type": "stream",
     "text": [
      "/usr/local/lib/python3.10/dist-packages/sklearn/base.py:432: UserWarning: X has feature names, but GaussianNB was fitted without feature names\n",
      "  warnings.warn(\n"
     ]
    }
   ],
   "source": [
    "# using binary relevance\n",
    "from skmultilearn.problem_transform import BinaryRelevance\n",
    "from sklearn.naive_bayes import GaussianNB\n",
    "from sklearn.metrics import accuracy_score\n",
    "\n",
    "# initialize binary relevance multi-label classifier\n",
    "# with a gaussian naive bayes base classifier\n",
    "classifier = BinaryRelevance(GaussianNB())\n",
    "\n",
    "# train\n",
    "classifier.fit(x_train, y_train)\n",
    "\n",
    "# predict\n",
    "predictions = classifier.predict(x_test)\n",
    "\n",
    "acc = accuracy_score(y_test,predictions.toarray())\n",
    "print(\"accuracy of binary relevance is %2.2f \" % (acc))"
   ]
  },
  {
   "cell_type": "markdown",
   "metadata": {
    "id": "4h-Ft7--7Ol6"
   },
   "source": [
    "## Classifier Chain"
   ]
  },
  {
   "cell_type": "code",
   "execution_count": 14,
   "metadata": {
    "colab": {
     "base_uri": "https://localhost:8080/"
    },
    "id": "dU1akKTN7cyQ",
    "outputId": "c5c9da3d-57e3-4586-94d2-e3d087445ee7"
   },
   "outputs": [
    {
     "name": "stdout",
     "output_type": "stream",
     "text": [
      "accuracy of chain classifier is 0.67 \n"
     ]
    }
   ],
   "source": [
    "# using classifier chains\n",
    "from skmultilearn.problem_transform import ClassifierChain\n",
    "from sklearn.naive_bayes import GaussianNB\n",
    "\n",
    "# initialize classifier chains multi-label classifier\n",
    "# with a gaussian naive bayes base classifier\n",
    "classifier = ClassifierChain(GaussianNB())\n",
    "\n",
    "# train\n",
    "classifier.fit(x_train, y_train)\n",
    "\n",
    "# predict\n",
    "predictions = classifier.predict(x_test)\n",
    "\n",
    "acc = accuracy_score(y_test,predictions.toarray())\n",
    "print(\"accuracy of chain classifier is %2.2f \" % (acc))"
   ]
  },
  {
   "cell_type": "markdown",
   "metadata": {
    "id": "ksRa8kDH8NVo"
   },
   "source": [
    "# Label Powerset"
   ]
  },
  {
   "cell_type": "code",
   "execution_count": 16,
   "metadata": {
    "colab": {
     "base_uri": "https://localhost:8080/"
    },
    "id": "EKtW8Bpv8_nb",
    "outputId": "2416ca11-1e5f-4978-be2c-0ee005c7c64b"
   },
   "outputs": [
    {
     "name": "stdout",
     "output_type": "stream",
     "text": [
      "accuracy of label powerset is 0.44 \n"
     ]
    },
    {
     "name": "stderr",
     "output_type": "stream",
     "text": [
      "/usr/local/lib/python3.10/dist-packages/sklearn/base.py:432: UserWarning: X has feature names, but GaussianNB was fitted without feature names\n",
      "  warnings.warn(\n"
     ]
    }
   ],
   "source": [
    "# using Label Powerset\n",
    "from skmultilearn.problem_transform import LabelPowerset\n",
    "from sklearn.naive_bayes import GaussianNB\n",
    "\n",
    "# initialize Label Powerset multi-label classifier\n",
    "# with a gaussian naive bayes base classifier\n",
    "classifier = LabelPowerset(GaussianNB())\n",
    "\n",
    "# train\n",
    "classifier.fit(x_train, y_train)\n",
    "\n",
    "# predict\n",
    "predictions = classifier.predict(x_test)\n",
    "\n",
    "acc = accuracy_score(y_test,predictions.toarray())\n",
    "print(\"accuracy of label powerset is %2.2f \" % (acc))"
   ]
  }
 ],
 "metadata": {
  "colab": {
   "provenance": []
  },
  "kernelspec": {
   "display_name": "Python 3 (ipykernel)",
   "language": "python",
   "name": "python3"
  },
  "language_info": {
   "codemirror_mode": {
    "name": "ipython",
    "version": 3
   },
   "file_extension": ".py",
   "mimetype": "text/x-python",
   "name": "python",
   "nbconvert_exporter": "python",
   "pygments_lexer": "ipython3",
   "version": "3.11.4"
  }
 },
 "nbformat": 4,
 "nbformat_minor": 1
}
